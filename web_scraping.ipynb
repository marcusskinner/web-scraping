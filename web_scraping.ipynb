{
 "cells": [
  {
   "cell_type": "markdown",
   "metadata": {},
   "source": [
    "**Marcus Skinner** <br>\n",
    "**CSM 4370: Data Science** <br>\n",
    "**Professor Abdul** <br>"
   ]
  },
  {
   "cell_type": "markdown",
   "metadata": {
    "slideshow": {
     "slide_type": "slide"
    }
   },
   "source": [
    "<h1>Problem Statement</h1>\n",
    "I want to create an application that will help students and instructors organize and plan their courses at Eastern Illinois University. The application will take into account the student's completed courses, required courses, and the prerequisites for the courses."
   ]
  },
  {
   "cell_type": "markdown",
   "metadata": {
    "slideshow": {
     "slide_type": "slide"
    }
   },
   "source": [
    "<h1>1. Data Acquisition and Cleaning</h1>\n",
    "\n",
    "We need the following information about all courses offered at EIU to implement the application:\n",
    "\n",
    "- Course numbers\n",
    "- Course names\n",
    "- Course descriptions\n",
    "- Course prerequisites\n",
    "\n",
    "We can find all this information on the course catalog at https://catalog.eiu.edu/. We will need to scrape, parse, and clean the data from the catalog. To do this, we will use the following python packages:\n",
    "- BeautifulSoup4\n",
    "- urlopen\n",
    "- re \n",
    "- String"
   ]
  },
  {
   "cell_type": "markdown",
   "metadata": {
    "slideshow": {
     "slide_type": "slide"
    }
   },
   "source": [
    "<h2>1.1 Methods</h2>\n",
    "\n",
    "The catalog has 25 pages of courses, which we'll refer to as **directory pages**. A directory in the catalog looks like:\n",
    "\n",
    "![Output](imgs/catalog_page.png)\n",
    "\n",
    "Notice, each course has a link. A link brings us to a **course page** that looks like: \n",
    "\n",
    "![Output](imgs/course_page.png)\n",
    "\n",
    "In our main method, we will loop through every directory page and scrape it. All directory page URLs have the form:\n",
    "\n",
    "https://catalog.eiu.edu/content.phpvcatoid=38&catoid=38&navoid=1742&filter%5Bitem_type%5D=3&filter%5Bonly_active%5D=\n",
    "1&filter%5B3%5D=1&filter%5Bcpage%5D= + **X** + #acalog_template_course_filter\n",
    "\n",
    "where **X** is the directory page number. We can increment X to iterate through each directory page URL and use the getCourses method to scrape each course page listed on a directory page. The code for our main method is given below."
   ]
  },
  {
   "cell_type": "code",
   "execution_count": null,
   "metadata": {
    "slideshow": {
     "slide_type": "slide"
    }
   },
   "outputs": [],
   "source": [
    "# import relevant modules\n",
    "from urllib.request import urlopen as uReq\n",
    "from bs4 import BeautifulSoup as soup\n",
    "import re\n",
    "\n",
    "def main():\n",
    "    # Initialize CSV File\n",
    "    filename = \"courses.csv\"\n",
    "    f = open(filename, \"a\")\n",
    "    headers = \"Course_Number, Course_Name, Prerequisites \\n\"\n",
    "    f.write(headers)\n",
    "\n",
    "    for i in range(1, 26):\n",
    "        my_url = \"https://catalog.eiu.edu/content.php?catoid=38&catoid=38&navoid=1742&filter%5Bitem_type%5D=3&filter\"\\\n",
    "                 \"%5Bonly_active%5D=1&filter%5B3%5D=1&filter%5Bcpage%5D=\" + str(i) + \"#acalog_template_course_filter\"\n",
    "\n",
    "        getCourses(my_url, f)\n",
    "\n",
    "    f.close()"
   ]
  },
  {
   "cell_type": "markdown",
   "metadata": {
    "slideshow": {
     "slide_type": "slide"
    }
   },
   "source": [
    "We use the **getCourses** method to iterate through every link on a given directory page and write the course information to a csv file. We can find all the information about a course in a **td** tag with class **block_content**. In the heading, **h1**, we can find the course number and title. Here, we split on a \"-\" and write the number and title to a csv. For the prerequsites, we call the **cleanText** method to process the \"Prerequsites & Notes\" section of a course page."
   ]
  },
  {
   "cell_type": "code",
   "execution_count": null,
   "metadata": {
    "scrolled": true,
    "slideshow": {
     "slide_type": "subslide"
    }
   },
   "outputs": [],
   "source": [
    "def getCourses(my_url, file):\n",
    "    # Get webpage\n",
    "    uClient = uReq(my_url)\n",
    "    page_html = uClient.read()\n",
    "    uClient.close()\n",
    "\n",
    "    # HTML parsing\n",
    "    page_soup = soup(page_html, \"html.parser\")\n",
    "\n",
    "    # Grabs each course link\n",
    "    course_links = page_soup.findAll(\"td\", {\"class\": \"width\"})\n",
    "\n",
    "    # Go through each course link, open its page, and parse its data\n",
    "    for course in course_links:\n",
    "        # Open course page\n",
    "        link = \"https://catalog.eiu.edu/\" + course.a.get(\"href\")\n",
    "        print(link)\n",
    "        client = uReq(link)\n",
    "        html = client.read()\n",
    "        client.close()\n",
    "\n",
    "        # Get data from webpage\n",
    "        page_soup = soup(html, \"html.parser\")\n",
    "        data = page_soup.find(\"td\", {\"class\": \"block_content\"})\n",
    "\n",
    "        # Get course number and title\n",
    "        text = data.h1.text.split(\"-\")\n",
    "        course_number = text[0]\n",
    "        course_title = text[1]\n",
    "\n",
    "        # Get prerequisites\n",
    "        text = data.get_text().replace(\"\\n\", \"\")\n",
    "        course_prereqs = cleanText(text)\n",
    "\n",
    "        # Write data to CSV file\n",
    "        file.write(course_number + \",\" + course_title + \",\" + course_prereqs + \"\\n\")"
   ]
  },
  {
   "cell_type": "markdown",
   "metadata": {
    "slideshow": {
     "slide_type": "slide"
    }
   },
   "source": [
    "The processing for the prerequisites is a bit more complicated because there's a lot of noise around the information we need. To solve this, we use the **regular expressions** (re) python package to match patterns that look like course numbers. The regular expression for course number is r'[A-Z]{3,4} [1-4]\\d{3}[G]?'"
   ]
  },
  {
   "cell_type": "code",
   "execution_count": null,
   "metadata": {
    "slideshow": {
     "slide_type": "subslide"
    }
   },
   "outputs": [],
   "source": [
    "def cleanText(string):\n",
    "    pattern = re.compile(r'[A-Z]{3,4} [1-4]\\d{3}[G]?')\n",
    "    matches = pattern.finditer(string)\n",
    "    prereqs = \"\"\n",
    "\n",
    "    for match in matches:\n",
    "        prereqs = prereqs + \" \" + match.group(0)\n",
    "\n",
    "    return prereqs"
   ]
  },
  {
   "cell_type": "markdown",
   "metadata": {
    "slideshow": {
     "slide_type": "subslide"
    }
   },
   "source": [
    "Then finally, we can execute the entire program with:"
   ]
  },
  {
   "cell_type": "code",
   "execution_count": null,
   "metadata": {
    "scrolled": true,
    "slideshow": {
     "slide_type": "subslide"
    }
   },
   "outputs": [],
   "source": [
    "if __name__ == \"__main__\":\n",
    "    main()"
   ]
  },
  {
   "cell_type": "markdown",
   "metadata": {
    "slideshow": {
     "slide_type": "slide"
    }
   },
   "source": [
    "<h2>1.2 Known Issues</h2>\n",
    "\n",
    "- For more accuracy on schedule planning, we will want to know when a course is offered. Some courses are offered in the Fall, Spring, every other year, on demand, or both in the Spring and Fall. We will need to account for all these cases.\n",
    "- The prerequisites aren't as simple as a list. Some prerequisites take a form like \"MAT 1402G or MAT 1400\" or \"MAT 1400 (can be taken concurrentely\" or \"Requires a 'C' or better in MAT 1400.\" We'll have to use a more specific set of regular expressions.\n",
    "- Also, the first entry in the prerequisites is the course itself"
   ]
  },
  {
   "cell_type": "markdown",
   "metadata": {
    "slideshow": {
     "slide_type": "slide"
    }
   },
   "source": [
    "<h1>2. Data Modeling</h1>\n",
    "\n",
    "We will use **Neo4j** to build a model of the course data. With the model, we'll be able to make queries about a student's course schedule. The relationships between the nodes can be represented with the following graph:\n",
    "\n",
    "![Output](imgs/courses_model.svg)"
   ]
  },
  {
   "cell_type": "markdown",
   "metadata": {
    "slideshow": {
     "slide_type": "slide"
    }
   },
   "source": [
    "<h2>2.1 Sample Data</h2>\n",
    "\n",
    "For simplicity, we will also use a cleaned, small sample of courses for demonstration. The courses in our sample will be the required courses for the Computer Science major at Eastern (excluding electives). The data is as follows"
   ]
  },
  {
   "cell_type": "code",
   "execution_count": 2,
   "metadata": {
    "slideshow": {
     "slide_type": "slide"
    }
   },
   "outputs": [
    {
     "name": "stdout",
     "output_type": "stream",
     "text": [
      "      Number                                         Title  Credits Semester  \\\n",
      "0   MAT1441G            Calculus and Analytical Geometry I        5      F S   \n",
      "1    CSM2170                            Computer Science I        4      F S   \n",
      "2    MAT2345              Elements of Discrete Mathematics        3        F   \n",
      "3    MAT2442           Calculus and Analytical Geometry II        5      F S   \n",
      "4    MAT2550                Introduction to Linear Algebra        3      F S   \n",
      "5    CSM2670                   Object Oriented Programming        4        S   \n",
      "6    CSM3570                           Numberical Analysis        3        S   \n",
      "7    CSM3670                Principles of Computer Systems        3        F   \n",
      "8    MAT3701                  Probability and Statistics I        3        F   \n",
      "9    CSM3770                       Combinatorial Computing        3        S   \n",
      "10   CSM3870                               Data Structures        3        F   \n",
      "11   CSM3950             Introduction to Database Concepts        3        S   \n",
      "12   CSM3980                          Parallel Programming        3        F   \n",
      "13   CSM4270               Design of Programming Languages        3        F   \n",
      "14   CSM4880             Design and Analysis of Algorithms        3        S   \n",
      "15   CSM4885                         Theory of Computation        3        F   \n",
      "16   CSM4970               Principles of Operating Systems        3        S   \n",
      "17   CSM4980          Networking and Distributed Computing        3        S   \n",
      "18   CSM4985  Artificial Intelligence and Machine Learning        3        F   \n",
      "19   MAT1330                       Analytical Trigonometry        2      F S   \n",
      "20   MAT1400                       Precalculus Mathematics        3      F S   \n",
      "\n",
      "                      Prerequisites  \n",
      "0               MAT1330 and MAT1400  \n",
      "1                          MAT1441G  \n",
      "2                          MAT1441G  \n",
      "3                          MAT1441G  \n",
      "4                          MAT1441G  \n",
      "5                           CSM2170  \n",
      "6   CSM2170 and MAT2443 and MAT2550  \n",
      "7                           CSM2670  \n",
      "8                           MAT2442  \n",
      "9                           MAT2345  \n",
      "10              MAT2345 and CSM2670  \n",
      "11              CSM3870 and MAT2345  \n",
      "12              CSM3870 and CSM3570  \n",
      "13              CSM2670 and CSM3670  \n",
      "14                          CSM3870  \n",
      "15              CSM2670 and MAT2345  \n",
      "16                          CSM3670  \n",
      "17                          CSM3980  \n",
      "18  MAT2345 and CSM2670 and MAT3701  \n",
      "19                             None  \n",
      "20                             None  \n"
     ]
    }
   ],
   "source": [
    "import pandas as pd\n",
    "\n",
    "df = pd.read_csv(\"cs_courses.csv\", encoding='cp1252')\n",
    "print(df)"
   ]
  },
  {
   "cell_type": "markdown",
   "metadata": {
    "slideshow": {
     "slide_type": "slide"
    }
   },
   "source": [
    "<h2>2.2 Neo4j Model</h2>"
   ]
  },
  {
   "cell_type": "markdown",
   "metadata": {
    "slideshow": {
     "slide_type": "slide"
    }
   },
   "source": [
    "First, we have to connect to the courses database"
   ]
  },
  {
   "cell_type": "code",
   "execution_count": null,
   "metadata": {
    "slideshow": {
     "slide_type": "subslide"
    }
   },
   "outputs": [],
   "source": [
    "from neo4j import GraphDatabase\n",
    "\n",
    "# These are not actual values. You will have to replace uri with your dataset location and the driver with the username and password\n",
    "uri = \"neo4j://localhost:7687\"\n",
    "driver = GraphDatabase.driver(uri, auth=(\"courses\", \"password\"))"
   ]
  },
  {
   "cell_type": "markdown",
   "metadata": {
    "slideshow": {
     "slide_type": "slide"
    }
   },
   "source": [
    "Then we will loop through every course in our dataframe and add it to the database. We will also add a computer science node and create a relationship between computer science and every course. "
   ]
  },
  {
   "cell_type": "code",
   "execution_count": null,
   "metadata": {
    "slideshow": {
     "slide_type": "subslide"
    }
   },
   "outputs": [],
   "source": [
    "with driver.session() as session:\n",
    "    # Create a node for the computer science department\n",
    "    session.run('CREATE (d: Computer_Science {title: \"Computer Science\"})')\n",
    "    # Loop through each course in df\n",
    "    for i in range(len(df.index)):\n",
    "        number = df.iloc[i,0]\n",
    "        title = df.iloc[i,1]\n",
    "        credits = df.iloc[i,2]\n",
    "        semester = df.iloc[i,3]\n",
    "        department = \"Computer_Science\"\n",
    "        # Add a node for the course\n",
    "        command = 'CREATE (c: %s {title: \"%s\", name: \"%s\", credits: \"%s\", semester: \"%s\"})' \\\n",
    "            % (number, number, title, credits, semester)\n",
    "        session.run(command)\n",
    "        # link the node to it's program(s)\n",
    "        command = 'MATCH (c1: %s),(c2: %s) CREATE (c1)-[:REQUIRES]->(c2)' % (department, number)\n",
    "        session.run(command)"
   ]
  },
  {
   "cell_type": "markdown",
   "metadata": {
    "slideshow": {
     "slide_type": "subslide"
    }
   },
   "source": [
    "Which results in the graph\n",
    "\n",
    "![Output](imgs/graph1.png)"
   ]
  },
  {
   "cell_type": "markdown",
   "metadata": {
    "slideshow": {
     "slide_type": "slide"
    }
   },
   "source": [
    "Next we will create the prerequsite relationships between courses."
   ]
  },
  {
   "cell_type": "code",
   "execution_count": null,
   "metadata": {
    "slideshow": {
     "slide_type": "fragment"
    }
   },
   "outputs": [],
   "source": [
    "import re\n",
    "# loop through each course in df\n",
    "with driver.session() as session:\n",
    "    for i in range(len(df.index)):\n",
    "        number = df.iloc[i,0]\n",
    "        # create a list of the prerequisites for the courses\n",
    "        pattern = re.compile(r'[A-Z]{3,4}[1-4]\\d{3}[G]?')\n",
    "        string = df.iloc[i,4]\n",
    "        prereqs = re.findall(pattern, string)\n",
    "        # link the course to its prerequisites\n",
    "        for req in prereqs:\n",
    "            command = 'MATCH (c1: %s),(c2: %s) CREATE (c1)-[:NEEDS]->(c2)' \\\n",
    "                % (number, req)\n",
    "            session.run(command)"
   ]
  },
  {
   "cell_type": "markdown",
   "metadata": {
    "slideshow": {
     "slide_type": "subslide"
    }
   },
   "source": [
    "Which gives the graph\n",
    "\n",
    "![Output](imgs/graph2.png)"
   ]
  },
  {
   "cell_type": "markdown",
   "metadata": {
    "slideshow": {
     "slide_type": "slide"
    }
   },
   "source": [
    "And create an example student named Ann--who has taken MAT1400, MAT1330, and MAT1441G"
   ]
  },
  {
   "cell_type": "code",
   "execution_count": null,
   "metadata": {
    "slideshow": {
     "slide_type": "fragment"
    }
   },
   "outputs": [],
   "source": [
    "with driver.session() as session:\n",
    "    session.run('CREATE (p: Ann {title: \"Ann\"})')\n",
    "    session.run('MATCH (p: Ann),(d:Computer_Science) CREATE (p)-[:BELONGS_TO]->(d)')\n",
    "    courses_taken = [\"MAT1400\", \"MAT1330\", \"MAT1441G\"]\n",
    "    \n",
    "    for course in courses_taken:\n",
    "        command = 'MATCH (c1: Ann),(c2: %s) CREATE (c1)-[:HAS_TAKEN]->(c2)' \\\n",
    "                % (course)\n",
    "        session.run(command)"
   ]
  },
  {
   "cell_type": "markdown",
   "metadata": {
    "slideshow": {
     "slide_type": "subslide"
    }
   },
   "source": [
    "Which looks like\n",
    "\n",
    "![Output](imgs/graph3.png)\n",
    "\n",
    "We can use this model to demo some queries"
   ]
  },
  {
   "cell_type": "markdown",
   "metadata": {
    "slideshow": {
     "slide_type": "slide"
    }
   },
   "source": [
    "<h1>3. Implementation</h1>\n",
    "With our model, we can now query information about a studen't course schedule. We will use Ann as an example. For this demonstration, we will ask three main question:\n",
    "\n",
    "- What courses can Ann take?\n",
    "- What courses has Ann taken?\n",
    "- What courses does Ann still need?"
   ]
  },
  {
   "cell_type": "code",
   "execution_count": null,
   "metadata": {
    "slideshow": {
     "slide_type": "slide"
    }
   },
   "outputs": [],
   "source": [
    "\n",
    "with driver.session() as session:\n",
    "    # What courses has Ann taken?\n",
    "    question0 = session.run('MATCH p = (:Ann)-[:HAS_TAKEN]->(c) RETURN c.name as name')\n",
    "    \n",
    "    # What courses does Ann still need?\n",
    "    question1 = session.run('MATCH p = (:Ann)-[:BELONGS_TO]->(d)-[:REQUIRES]->(courses_required) \\\n",
    "                                WHERE NOT (:Ann)-[:HAS_TAKEN]->(courses_required) \\\n",
    "                                RETURN courses_required.name as name')\n",
    "\n",
    "    # What courses can Ann take?\n",
    "    question2 = session.run('MATCH p = (:Ann)-[:BELONGS_TO]->(d)-[:REQUIRES]->(courses_required)-[:NEEDS]->(courses_needed)<-[:HAS_TAKEN]-(:Ann) \\\n",
    "                                WHERE NOT (:Ann)-[:HAS_TAKEN]->(courses_required) \\\n",
    "                                RETURN courses_required.name as name')\n",
    "    \n",
    "    # What courses can Ann take in the fall?\n",
    "    question3 = session.run('MATCH p = (:Ann)-[:BELONGS_TO]->(d)-[:REQUIRES]->(courses_required)-[:NEEDS]->(courses_needed)<-[:HAS_TAKEN]-(:Ann) \\\n",
    "                                WHERE NOT (:Ann)-[:HAS_TAKEN]->(courses_required) \\\n",
    "                                AND (courses_required.semester = \"F\" OR courses_required.semester = \"F S\") \\\n",
    "                                RETURN courses_required.name as name')\n",
    "    "
   ]
  },
  {
   "cell_type": "code",
   "execution_count": null,
   "metadata": {
    "slideshow": {
     "slide_type": "skip"
    }
   },
   "outputs": [],
   "source": [
    "# What courses has Ann taken?\n",
    "for record in question0:\n",
    "    print(record['name'])"
   ]
  },
  {
   "cell_type": "code",
   "execution_count": null,
   "metadata": {},
   "outputs": [],
   "source": [
    "# What courses does Ann still need?\n",
    "for record in question1:\n",
    "    print(record['name'])"
   ]
  },
  {
   "cell_type": "code",
   "execution_count": null,
   "metadata": {},
   "outputs": [],
   "source": [
    "# What courses can Ann take?\n",
    "for record in question2:\n",
    "    print(record['name'])"
   ]
  }
 ],
 "metadata": {
  "kernelspec": {
   "display_name": "Python 3",
   "language": "python",
   "name": "python3"
  },
  "language_info": {
   "codemirror_mode": {
    "name": "ipython",
    "version": 3
   },
   "file_extension": ".py",
   "mimetype": "text/x-python",
   "name": "python",
   "nbconvert_exporter": "python",
   "pygments_lexer": "ipython3",
   "version": "3.9.5"
  }
 },
 "nbformat": 4,
 "nbformat_minor": 4
}
